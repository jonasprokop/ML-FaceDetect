{
 "cells": [
  {
   "cell_type": "code",
   "execution_count": 1,
   "metadata": {
    "id": "L42OlxaMMvGr"
   },
   "outputs": [],
   "source": [
    "import cv2\n",
    "import keras.layers \n",
    "import pandas as pd\n",
    "import numpy as np\n",
    "import matplotlib.pyplot as plt\n",
    "import tensorflow as tf\n",
    "import cvlib as cv\n"
   ]
  },
  {
   "cell_type": "code",
   "execution_count": 2,
   "metadata": {
    "id": "LFWT11dW2cmJ"
   },
   "outputs": [],
   "source": [
    "url = \"https://donamireal.cz/download/identity_CelebA.csv\"  #hodil jsem soubor na server\n",
    "df = pd.read_csv(url)"
   ]
  },
  {
   "cell_type": "code",
   "execution_count": 3,
   "metadata": {
    "id": "gf9MfzxR2kDG"
   },
   "outputs": [],
   "source": [
    "def train_validate_test_split(df, train_percent=0.6, validate_percent=0.2 , seed=None):\n",
    "    np.random.seed(seed)\n",
    "    perm = np.random.permutation(df.index)\n",
    "    m = len(df.index)\n",
    "    train_end = int(train_percent * m)\n",
    "    validate_end = int(validate_percent * m) + train_end\n",
    "    train = df.iloc[perm[:train_end]]\n",
    "    validate = df.iloc[perm[train_end:validate_end]]\n",
    "    test = df.iloc[perm[validate_end:]]\n",
    "    return train, validate, test"
   ]
  },
  {
   "cell_type": "code",
   "execution_count": 4,
   "metadata": {
    "id": "3OSh4-Sf2oOU"
   },
   "outputs": [],
   "source": [
    "train, validate, test = train_validate_test_split(df)"
   ]
  },
  {
   "cell_type": "code",
   "execution_count": 5,
   "metadata": {
    "colab": {
     "base_uri": "https://localhost:8080/",
     "height": 424
    },
    "id": "aqil7O7x2xSO",
    "outputId": "35a97d79-8ddf-4e1d-a6b6-fe019fccf885"
   },
   "outputs": [
    {
     "data": {
      "text/html": [
       "<div>\n",
       "<style scoped>\n",
       "    .dataframe tbody tr th:only-of-type {\n",
       "        vertical-align: middle;\n",
       "    }\n",
       "\n",
       "    .dataframe tbody tr th {\n",
       "        vertical-align: top;\n",
       "    }\n",
       "\n",
       "    .dataframe thead th {\n",
       "        text-align: right;\n",
       "    }\n",
       "</style>\n",
       "<table border=\"1\" class=\"dataframe\">\n",
       "  <thead>\n",
       "    <tr style=\"text-align: right;\">\n",
       "      <th></th>\n",
       "      <th>000001.jpg 2880</th>\n",
       "    </tr>\n",
       "  </thead>\n",
       "  <tbody>\n",
       "    <tr>\n",
       "      <th>144</th>\n",
       "      <td>000146.jpg 7147</td>\n",
       "    </tr>\n",
       "    <tr>\n",
       "      <th>90025</th>\n",
       "      <td>090027.jpg 5728</td>\n",
       "    </tr>\n",
       "    <tr>\n",
       "      <th>198415</th>\n",
       "      <td>198417.jpg 9324</td>\n",
       "    </tr>\n",
       "    <tr>\n",
       "      <th>63502</th>\n",
       "      <td>063504.jpg 248</td>\n",
       "    </tr>\n",
       "    <tr>\n",
       "      <th>67193</th>\n",
       "      <td>067195.jpg 4858</td>\n",
       "    </tr>\n",
       "    <tr>\n",
       "      <th>...</th>\n",
       "      <td>...</td>\n",
       "    </tr>\n",
       "    <tr>\n",
       "      <th>127997</th>\n",
       "      <td>127999.jpg 3620</td>\n",
       "    </tr>\n",
       "    <tr>\n",
       "      <th>80578</th>\n",
       "      <td>080580.jpg 7168</td>\n",
       "    </tr>\n",
       "    <tr>\n",
       "      <th>111657</th>\n",
       "      <td>111659.jpg 3907</td>\n",
       "    </tr>\n",
       "    <tr>\n",
       "      <th>35788</th>\n",
       "      <td>035790.jpg 6386</td>\n",
       "    </tr>\n",
       "    <tr>\n",
       "      <th>195554</th>\n",
       "      <td>195556.jpg 10157</td>\n",
       "    </tr>\n",
       "  </tbody>\n",
       "</table>\n",
       "<p>121558 rows × 1 columns</p>\n",
       "</div>"
      ],
      "text/plain": [
       "         000001.jpg 2880\n",
       "144      000146.jpg 7147\n",
       "90025    090027.jpg 5728\n",
       "198415   198417.jpg 9324\n",
       "63502     063504.jpg 248\n",
       "67193    067195.jpg 4858\n",
       "...                  ...\n",
       "127997   127999.jpg 3620\n",
       "80578    080580.jpg 7168\n",
       "111657   111659.jpg 3907\n",
       "35788    035790.jpg 6386\n",
       "195554  195556.jpg 10157\n",
       "\n",
       "[121558 rows x 1 columns]"
      ]
     },
     "execution_count": 5,
     "metadata": {},
     "output_type": "execute_result"
    }
   ],
   "source": [
    "train"
   ]
  },
  {
   "cell_type": "code",
   "execution_count": 6,
   "metadata": {
    "colab": {
     "base_uri": "https://localhost:8080/",
     "height": 424
    },
    "id": "lrkh5OOt2zNy",
    "outputId": "08db5ff5-1430-4bb7-89c4-1cab2d6fd241"
   },
   "outputs": [
    {
     "data": {
      "text/html": [
       "<div>\n",
       "<style scoped>\n",
       "    .dataframe tbody tr th:only-of-type {\n",
       "        vertical-align: middle;\n",
       "    }\n",
       "\n",
       "    .dataframe tbody tr th {\n",
       "        vertical-align: top;\n",
       "    }\n",
       "\n",
       "    .dataframe thead th {\n",
       "        text-align: right;\n",
       "    }\n",
       "</style>\n",
       "<table border=\"1\" class=\"dataframe\">\n",
       "  <thead>\n",
       "    <tr style=\"text-align: right;\">\n",
       "      <th></th>\n",
       "      <th>000001.jpg 2880</th>\n",
       "    </tr>\n",
       "  </thead>\n",
       "  <tbody>\n",
       "    <tr>\n",
       "      <th>202128</th>\n",
       "      <td>202130.jpg 8717</td>\n",
       "    </tr>\n",
       "    <tr>\n",
       "      <th>6338</th>\n",
       "      <td>006340.jpg 8933</td>\n",
       "    </tr>\n",
       "    <tr>\n",
       "      <th>177025</th>\n",
       "      <td>177027.jpg 3487</td>\n",
       "    </tr>\n",
       "    <tr>\n",
       "      <th>71359</th>\n",
       "      <td>071361.jpg 6014</td>\n",
       "    </tr>\n",
       "    <tr>\n",
       "      <th>40016</th>\n",
       "      <td>040018.jpg 4646</td>\n",
       "    </tr>\n",
       "    <tr>\n",
       "      <th>...</th>\n",
       "      <td>...</td>\n",
       "    </tr>\n",
       "    <tr>\n",
       "      <th>150336</th>\n",
       "      <td>150338.jpg 1407</td>\n",
       "    </tr>\n",
       "    <tr>\n",
       "      <th>184366</th>\n",
       "      <td>184368.jpg 5301</td>\n",
       "    </tr>\n",
       "    <tr>\n",
       "      <th>166649</th>\n",
       "      <td>166651.jpg 460</td>\n",
       "    </tr>\n",
       "    <tr>\n",
       "      <th>13525</th>\n",
       "      <td>013527.jpg 9325</td>\n",
       "    </tr>\n",
       "    <tr>\n",
       "      <th>175249</th>\n",
       "      <td>175251.jpg 1877</td>\n",
       "    </tr>\n",
       "  </tbody>\n",
       "</table>\n",
       "<p>40519 rows × 1 columns</p>\n",
       "</div>"
      ],
      "text/plain": [
       "        000001.jpg 2880\n",
       "202128  202130.jpg 8717\n",
       "6338    006340.jpg 8933\n",
       "177025  177027.jpg 3487\n",
       "71359   071361.jpg 6014\n",
       "40016   040018.jpg 4646\n",
       "...                 ...\n",
       "150336  150338.jpg 1407\n",
       "184366  184368.jpg 5301\n",
       "166649   166651.jpg 460\n",
       "13525   013527.jpg 9325\n",
       "175249  175251.jpg 1877\n",
       "\n",
       "[40519 rows x 1 columns]"
      ]
     },
     "execution_count": 6,
     "metadata": {},
     "output_type": "execute_result"
    }
   ],
   "source": [
    "validate"
   ]
  },
  {
   "cell_type": "code",
   "execution_count": 7,
   "metadata": {
    "colab": {
     "base_uri": "https://localhost:8080/",
     "height": 424
    },
    "id": "A9MCPlUx22hN",
    "outputId": "3f1f2459-662f-4187-a67d-1761d62d4da5"
   },
   "outputs": [
    {
     "data": {
      "text/html": [
       "<div>\n",
       "<style scoped>\n",
       "    .dataframe tbody tr th:only-of-type {\n",
       "        vertical-align: middle;\n",
       "    }\n",
       "\n",
       "    .dataframe tbody tr th {\n",
       "        vertical-align: top;\n",
       "    }\n",
       "\n",
       "    .dataframe thead th {\n",
       "        text-align: right;\n",
       "    }\n",
       "</style>\n",
       "<table border=\"1\" class=\"dataframe\">\n",
       "  <thead>\n",
       "    <tr style=\"text-align: right;\">\n",
       "      <th></th>\n",
       "      <th>000001.jpg 2880</th>\n",
       "    </tr>\n",
       "  </thead>\n",
       "  <tbody>\n",
       "    <tr>\n",
       "      <th>98188</th>\n",
       "      <td>098190.jpg 7709</td>\n",
       "    </tr>\n",
       "    <tr>\n",
       "      <th>76829</th>\n",
       "      <td>076831.jpg 2215</td>\n",
       "    </tr>\n",
       "    <tr>\n",
       "      <th>129001</th>\n",
       "      <td>129003.jpg 9986</td>\n",
       "    </tr>\n",
       "    <tr>\n",
       "      <th>101620</th>\n",
       "      <td>101622.jpg 2924</td>\n",
       "    </tr>\n",
       "    <tr>\n",
       "      <th>38663</th>\n",
       "      <td>038665.jpg 7665</td>\n",
       "    </tr>\n",
       "    <tr>\n",
       "      <th>...</th>\n",
       "      <td>...</td>\n",
       "    </tr>\n",
       "    <tr>\n",
       "      <th>15445</th>\n",
       "      <td>015447.jpg 4271</td>\n",
       "    </tr>\n",
       "    <tr>\n",
       "      <th>150767</th>\n",
       "      <td>150769.jpg 1598</td>\n",
       "    </tr>\n",
       "    <tr>\n",
       "      <th>130408</th>\n",
       "      <td>130410.jpg 9979</td>\n",
       "    </tr>\n",
       "    <tr>\n",
       "      <th>38872</th>\n",
       "      <td>038874.jpg 9940</td>\n",
       "    </tr>\n",
       "    <tr>\n",
       "      <th>115510</th>\n",
       "      <td>115512.jpg 6941</td>\n",
       "    </tr>\n",
       "  </tbody>\n",
       "</table>\n",
       "<p>40521 rows × 1 columns</p>\n",
       "</div>"
      ],
      "text/plain": [
       "        000001.jpg 2880\n",
       "98188   098190.jpg 7709\n",
       "76829   076831.jpg 2215\n",
       "129001  129003.jpg 9986\n",
       "101620  101622.jpg 2924\n",
       "38663   038665.jpg 7665\n",
       "...                 ...\n",
       "15445   015447.jpg 4271\n",
       "150767  150769.jpg 1598\n",
       "130408  130410.jpg 9979\n",
       "38872   038874.jpg 9940\n",
       "115510  115512.jpg 6941\n",
       "\n",
       "[40521 rows x 1 columns]"
      ]
     },
     "execution_count": 7,
     "metadata": {},
     "output_type": "execute_result"
    }
   ],
   "source": [
    "test"
   ]
  },
  {
   "cell_type": "code",
   "execution_count": 90,
   "metadata": {
    "id": "kULRNP0y37sQ"
   },
   "outputs": [],
   "source": [
    "def get_face(image, name):\n",
    "\n",
    "  img= cv2.imread(image)\n",
    "  faces, confidences = cv.detect_face(img)\n",
    "  for face in faces:\n",
    "        (startX,startY) = face[0],face[1]\n",
    "        (endX,endY) = face[2],face[3]\n",
    "        cropped_image = img[startY:endY, startX:endX]\n",
    "        cv2.imwrite(outputPath + name, cropped_image)\n",
    "        return cropped_image\n",
    "        "
   ]
  },
  {
   "cell_type": "code",
   "execution_count": 91,
   "metadata": {},
   "outputs": [],
   "source": [
    "import os\n",
    "import glob\n",
    "\n",
    "def clean_folder(folderPath):\n",
    "    files = glob.glob(folderPath + '*')\n",
    "    for f in files:\n",
    "        os.remove(f)"
   ]
  },
  {
   "cell_type": "code",
   "execution_count": 92,
   "metadata": {
    "id": "uMMb29zF4BtG"
   },
   "outputs": [],
   "source": [
    "def go_through_dataset_crop(n):\n",
    "  clean_folder(outputPath)\n",
    "  data_pict = pd.read_csv('C:/Users/prokopj/dataset/new_dataset.csv')\n",
    "  sample = data_pict.sample(n)\n",
    "  picts = []\n",
    "  for x in range(0, (n)):\n",
    "    image = str(sample.iloc[x, 1])\n",
    "    get_face(path + image, outputPath + f'0000000000cropped_{image}')\n"
   ]
  },
  {
   "cell_type": "code",
   "execution_count": 93,
   "metadata": {
    "colab": {
     "base_uri": "https://localhost:8080/",
     "height": 311
    },
    "id": "ADG38nOdtO8p",
    "outputId": "57e2904a-fb03-45ff-87c7-cab9ee0ab447"
   },
   "outputs": [],
   "source": [
    "path = 'C:/Users/prokopj/dataset/'\n",
    "outputPath = 'C:/Users/prokopj/cropped/'\n",
    "resize_path ='C:/Users/prokopj/resized/'"
   ]
  },
  {
   "cell_type": "code",
   "execution_count": 105,
   "metadata": {
    "id": "SfqsY4OR-j6y"
   },
   "outputs": [],
   "source": [
    "def resize_picture(in_file, out_file, width_out, height_out):\n",
    "    img = in_file\n",
    "    resize = tf.keras.layers.Resizing (width_out, height_out, interpolation='bilinear', crop_to_aspect_ratio=False)\n",
    "    resized_image = resize(img)\n",
    "    image_array = tf.keras.utils.img_to_array(resized_image)\n",
    "    cv2.imwrite(resize_path + out_file,image_array)\n",
    "    \n"
   ]
  },
  {
   "cell_type": "code",
   "execution_count": 106,
   "metadata": {
    "id": "nUz3n_bU_LZA"
   },
   "outputs": [],
   "source": [
    "def go_through_dataset_resize(n, size):\n",
    "  clean_folder(outputPath)\n",
    "  clean_folder(resize_path)\n",
    "  data_pict = pd.read_csv('C:/Users/prokopj/dataset/new_dataset.csv')\n",
    "  sample = data_pict.sample(n)\n",
    "  picts = []\n",
    "  for row in range(len(sample)):\n",
    "    pict = sample.iloc[row, 1]\n",
    "    picts.append(pict)\n",
    "  for i in range(len(picts)):\n",
    "      print(path + picts[i])\n",
    "      x =  path + picts[i]\n",
    "      image = get_face(x, picts[i])\n",
    "      if image is not None:\n",
    "            resize_picture(image,picts[i], size, size)"
   ]
  },
  {
   "cell_type": "code",
   "execution_count": 107,
   "metadata": {
    "id": "lNMQnNdQRAQb"
   },
   "outputs": [
    {
     "name": "stdout",
     "output_type": "stream",
     "text": [
      "C:/Users/prokopj/dataset/002077.jpg\n",
      "C:/Users/prokopj/dataset/000849.jpg\n",
      "C:/Users/prokopj/dataset/000901.jpg\n",
      "C:/Users/prokopj/dataset/002506.jpg\n",
      "C:/Users/prokopj/dataset/002864.jpg\n",
      "C:/Users/prokopj/dataset/004158.jpg\n",
      "C:/Users/prokopj/dataset/002300.jpg\n",
      "C:/Users/prokopj/dataset/000872.jpg\n",
      "C:/Users/prokopj/dataset/000252.jpg\n",
      "C:/Users/prokopj/dataset/004287.jpg\n"
     ]
    }
   ],
   "source": [
    "go_through_dataset_resize(10,224)"
   ]
  },
  {
   "cell_type": "code",
   "execution_count": null,
   "metadata": {
    "id": "UfasqvT5_t8G"
   },
   "outputs": [],
   "source": [
    "\n"
   ]
  },
  {
   "cell_type": "code",
   "execution_count": null,
   "metadata": {},
   "outputs": [],
   "source": []
  },
  {
   "cell_type": "code",
   "execution_count": null,
   "metadata": {},
   "outputs": [],
   "source": []
  },
  {
   "cell_type": "code",
   "execution_count": null,
   "metadata": {},
   "outputs": [],
   "source": []
  }
 ],
 "metadata": {
  "colab": {
   "collapsed_sections": [],
   "provenance": []
  },
  "kernelspec": {
   "display_name": "Python 3 (ipykernel)",
   "language": "python",
   "name": "python3"
  },
  "language_info": {
   "codemirror_mode": {
    "name": "ipython",
    "version": 3
   },
   "file_extension": ".py",
   "mimetype": "text/x-python",
   "name": "python",
   "nbconvert_exporter": "python",
   "pygments_lexer": "ipython3",
   "version": "3.9.12"
  }
 },
 "nbformat": 4,
 "nbformat_minor": 1
}
