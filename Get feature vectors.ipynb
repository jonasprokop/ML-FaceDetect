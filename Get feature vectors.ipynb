{
 "cells": [
  {
   "cell_type": "code",
   "execution_count": 27,
   "id": "6c95e286",
   "metadata": {},
   "outputs": [],
   "source": [
    "from tensorflow import keras\n",
    "from tensorflow.keras.layers import Dense, Input, Flatten, concatenate, Lambda, BatchNormalization, Dropout\n",
    "from tensorflow.keras.models import Model\n",
    "import pandas as pd\n",
    "import tensorflow.keras.backend as K\n",
    "from tensorflow.keras import regularizers\n",
    "import numpy as np\n",
    "import tensorflow_hub as hub\n",
    "import cv2\n",
    "import csv\n",
    "from tensorflow.keras.datasets import fashion_mnist\n",
    "import numpy as np\n",
    "import random\n",
    "import matplotlib.pyplot as plt\n",
    "import tensorflow as tf\n",
    "from tensorflow.keras.models import Model\n",
    "from tensorflow.keras.optimizers import Adam\n",
    "from tensorflow.python.keras.utils.vis_utils import plot_model\n",
    "import tensorflow.keras.backend as K\n",
    "from tensorflow.keras.applications.resnet50 import ResNet50\n",
    "import cv2\n",
    "import cvlib as cv"
   ]
  },
  {
   "cell_type": "code",
   "execution_count": 2,
   "id": "4dc1b8c6",
   "metadata": {},
   "outputs": [],
   "source": [
    "random_number = 42"
   ]
  },
  {
   "cell_type": "code",
   "execution_count": 3,
   "id": "3ab4ba76",
   "metadata": {},
   "outputs": [],
   "source": [
    "tf.keras.utils.set_random_seed(random_number)"
   ]
  },
  {
   "cell_type": "code",
   "execution_count": 4,
   "id": "393550a7",
   "metadata": {},
   "outputs": [],
   "source": [
    "import os\n",
    "os.environ[\"TFHUB_CACHE_DIR\"] = \"C:/Users/karel\"\n",
    "hub_extractor = \"https://tfhub.dev/google/bit/m-r50x1/1\""
   ]
  },
  {
   "cell_type": "code",
   "execution_count": 12,
   "id": "e32f30df",
   "metadata": {},
   "outputs": [],
   "source": [
    "input_layer = Input(shape=(224,224,3))"
   ]
  },
  {
   "cell_type": "code",
   "execution_count": 13,
   "id": "445ddcdf",
   "metadata": {},
   "outputs": [],
   "source": [
    "feature_extractor_layer = hub.KerasLayer(\n",
    "    hub_extractor,\n",
    "    input_shape=(224, 224, 3),\n",
    "    trainable=False\n",
    ")(input_layer)"
   ]
  },
  {
   "cell_type": "code",
   "execution_count": 7,
   "id": "4d841a84",
   "metadata": {},
   "outputs": [],
   "source": [
    "image_folder = './people'"
   ]
  },
  {
   "cell_type": "code",
   "execution_count": 8,
   "id": "e63eb128",
   "metadata": {},
   "outputs": [],
   "source": [
    "people = ['DL', 'JP', 'KD', 'MV', 'PZ']"
   ]
  },
  {
   "cell_type": "code",
   "execution_count": 15,
   "id": "30d4e2b6",
   "metadata": {},
   "outputs": [],
   "source": [
    "model = tf.keras.Model(inputs=input_layer, outputs = feature_extractor_layer)"
   ]
  },
  {
   "cell_type": "code",
   "execution_count": 16,
   "id": "689ff853",
   "metadata": {},
   "outputs": [
    {
     "name": "stdout",
     "output_type": "stream",
     "text": [
      "Model: \"model\"\n",
      "_________________________________________________________________\n",
      " Layer (type)                Output Shape              Param #   \n",
      "=================================================================\n",
      " input_1 (InputLayer)        [(None, 224, 224, 3)]     0         \n",
      "                                                                 \n",
      " keras_layer_1 (KerasLayer)  (None, 2048)              23500352  \n",
      "                                                                 \n",
      "=================================================================\n",
      "Total params: 23,500,352\n",
      "Trainable params: 0\n",
      "Non-trainable params: 23,500,352\n",
      "_________________________________________________________________\n"
     ]
    }
   ],
   "source": [
    "model.summary()"
   ]
  },
  {
   "cell_type": "code",
   "execution_count": 25,
   "id": "cfca2cc9",
   "metadata": {},
   "outputs": [],
   "source": [
    "def get_face(image):\n",
    "  img = cv2.imread(image)\n",
    "  faces, confidences = cv.detect_face(img)\n",
    "  path = image.replace('.jpg', '_cropped.jpg').replace('.jpeg', '_cropped.jpg')\n",
    "\n",
    "  if os.path.exists(path):\n",
    "    return path\n",
    "\n",
    "  for face in faces:\n",
    "        (startX,startY) = face[0],face[1]\n",
    "        (endX,endY) = face[2],face[3]\n",
    "        cropped_image = img[startY:endY, startX:endX]\n",
    "        cv2.imwrite(path, cropped_image)\n",
    "        return path"
   ]
  },
  {
   "cell_type": "code",
   "execution_count": 31,
   "id": "1054d7c3",
   "metadata": {},
   "outputs": [],
   "source": [
    "def preprocess_image(image):\n",
    "    image_string = tf.io.read_file(image)\n",
    "    image = tf.image.decode_jpeg(image_string)\n",
    "\n",
    "    resize = tf.keras.layers.Resizing (224, 224, interpolation='bilinear', crop_to_aspect_ratio=False)\n",
    "    resized_image = resize(image)\n",
    "    \n",
    "    resized_image = tf.keras.applications.resnet50.preprocess_input(resized_image)\n",
    "    resized_image = tf.image.convert_image_dtype(resized_image, tf.float32)\n",
    "\n",
    "    return resized_image"
   ]
  },
  {
   "cell_type": "code",
   "execution_count": 45,
   "id": "b59b1f53",
   "metadata": {},
   "outputs": [],
   "source": [
    "team_vectors = []"
   ]
  },
  {
   "cell_type": "code",
   "execution_count": 46,
   "id": "6e497903",
   "metadata": {},
   "outputs": [],
   "source": [
    "for person in people:\n",
    "    path = image_folder + '/IMG_' + person + '.jpg'\n",
    "    path = get_face(path)\n",
    "    \n",
    "    img = preprocess_image(path)\n",
    "    img = np.expand_dims(img, axis=0)\n",
    "    \n",
    "    pred = model.predict(\n",
    "        img,\n",
    "        batch_size = 1,\n",
    "        verbose=0\n",
    "    )\n",
    "    \n",
    "    team_vectors.append([person, pred[0].tolist()])"
   ]
  },
  {
   "cell_type": "code",
   "execution_count": 48,
   "id": "463287d4",
   "metadata": {},
   "outputs": [],
   "source": [
    "import pandas as pd\n",
    "import numpy as np\n",
    "pd.DataFrame(team_vectors).to_csv('team_vectors.csv')  "
   ]
  },
  {
   "cell_type": "code",
   "execution_count": null,
   "id": "1d3c7e1b",
   "metadata": {},
   "outputs": [],
   "source": []
  }
 ],
 "metadata": {
  "kernelspec": {
   "display_name": "GPUEnv",
   "language": "python",
   "name": "gpuenv"
  },
  "language_info": {
   "codemirror_mode": {
    "name": "ipython",
    "version": 3
   },
   "file_extension": ".py",
   "mimetype": "text/x-python",
   "name": "python",
   "nbconvert_exporter": "python",
   "pygments_lexer": "ipython3",
   "version": "3.10.8"
  }
 },
 "nbformat": 4,
 "nbformat_minor": 5
}
