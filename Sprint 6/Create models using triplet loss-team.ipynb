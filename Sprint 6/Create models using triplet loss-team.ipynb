{
 "cells": [
  {
   "cell_type": "code",
   "execution_count": 1,
   "id": "16aa5a27",
   "metadata": {
    "id": "16aa5a27"
   },
   "outputs": [],
   "source": [
    "from tensorflow.keras.datasets import fashion_mnist\n",
    "import numpy as np\n",
    "import random\n",
    "import matplotlib.pyplot as plt\n",
    "from matplotlib import image\n",
    "import tensorflow as tf\n",
    "from tensorflow.keras.layers import Dense, Flatten, Input\n",
    "from tensorflow.keras.models import Model\n",
    "import tensorflow.keras.backend as K\n",
    "import tensorflow_hub as hub\n",
    "from tensorflow.keras.preprocessing.image import load_img\n",
    "from tensorflow.keras.preprocessing.image import img_to_array\n",
    "import pandas as pd\n",
    "from sklearn.model_selection import train_test_split\n",
    "import copy\n",
    "import cv2"
   ]
  },
  {
   "cell_type": "code",
   "execution_count": 2,
   "id": "7734cbe4",
   "metadata": {},
   "outputs": [],
   "source": [
    "import os\n",
    "os.environ['CUDA_VISIBLE_DEVICES'] = '-1'"
   ]
  },
  {
   "cell_type": "code",
   "execution_count": 3,
   "id": "0ab02d14",
   "metadata": {},
   "outputs": [],
   "source": [
    "gpus = tf.config.experimental.list_physical_devices('GPU')\n",
    "if gpus:\n",
    "    try:\n",
    "        for gpu in gpus:\n",
    "            tf.config.experimental.set_memory_growth(gpu, True)\n",
    "    except RuntimeError as e:\n",
    "        print(e)"
   ]
  },
  {
   "cell_type": "code",
   "execution_count": 4,
   "id": "65f988c5",
   "metadata": {},
   "outputs": [],
   "source": [
    "#loading file\n",
    "file_path = \"pairsteam.csv\"\n",
    "df = pd.read_csv(file_path, sep=\",\", header=None)\n",
    "df.columns = ['Path', 'Identity']\n",
    "photos_loc = \"C:/Users/Dominika/team/\"\n",
    "df['Path'] = photos_loc + df['Path']"
   ]
  },
  {
   "cell_type": "code",
   "execution_count": 5,
   "id": "d93e4643",
   "metadata": {},
   "outputs": [],
   "source": [
    "X_train, X_test = train_test_split(df, test_size=0.33, random_state=42)"
   ]
  },
  {
   "cell_type": "code",
   "execution_count": 6,
   "id": "9e79c87f",
   "metadata": {},
   "outputs": [],
   "source": [
    "pic_size = 224\n",
    "#reading image\n",
    "def get_image_array(path):\n",
    "    \n",
    "    image_string = tf.io.read_file(path)\n",
    "    image = tf.image.decode_jpeg(image_string)\n",
    "    image = tf.image.convert_image_dtype(image, tf.float32)\n",
    "    #image = tf.image.resize(image, [pic_size, pic_size])\n",
    "    #image = image/255.0\n",
    "    return image\n",
    "\n",
    "def pair_identities(input_df):\n",
    "    #finding identities with <2 paths\n",
    "    df_ids = input_df\n",
    "    identity_counts = df_ids.groupby(['Identity'])\n",
    "    df_ids['count'] = df_ids.groupby('Identity').transform('count')\n",
    "    df_ids = df_ids.drop_duplicates(subset = [\"Identity\"])\n",
    "    filter = df_ids[\"count\"]<2\n",
    "    df_ids = df_ids.where(filter)\n",
    "    df_ids = df_ids.dropna()\n",
    "    bad_ids = df_ids[\"Identity\"].values.tolist()\n",
    "    bad_ids = [int(v) for v in bad_ids]\n",
    "    return bad_ids\n",
    "    \n",
    "def ids_dict(df_data):\n",
    "    dict_ids = {}\n",
    "    for x in range(len(df_data)):\n",
    "        id = df_data.iloc[x, 1]\n",
    "        if id not in dict_ids:\n",
    "            dict_ids[id] = []\n",
    "        dict_ids[id].append(df_data.iloc[x, 0])\n",
    "    return dict_ids"
   ]
  },
  {
   "cell_type": "code",
   "execution_count": 7,
   "id": "194ec3f8",
   "metadata": {},
   "outputs": [],
   "source": [
    "train_bad_ids = pair_identities(X_train)\n",
    "test_bad_ids = pair_identities(X_test)\n",
    "\n",
    "train_list = ids_dict(X_train)\n",
    "test_list = ids_dict(X_test)\n"
   ]
  },
  {
   "cell_type": "code",
   "execution_count": 8,
   "id": "868dd656",
   "metadata": {},
   "outputs": [],
   "source": [
    "def create_triplets(data, bad_ids, count):\n",
    "    triplets = []\n",
    "    for i in range(count):\n",
    "        path_list = copy.deepcopy(data)\n",
    "        ids = list(path_list.keys())\n",
    "        #removing ids from the bad_ids list\n",
    "        ids_for_same = [i for i in ids if i not in bad_ids]\n",
    "        identity = random.choice(ids_for_same)\n",
    "        reference_path = random.choice(data.get(identity))\n",
    "        #removing reference_path to avoid two same paths\n",
    "        path_list[identity].remove(reference_path)\n",
    "        same_path = random.choice(path_list.get(identity))\n",
    "        #removing identity \n",
    "        ids.remove(identity)\n",
    "        diff_identity = random.choice(ids)\n",
    "        diff_path = random.choice(path_list.get(diff_identity))\n",
    "        triplets.append([get_image_array(reference_path), get_image_array(same_path), get_image_array(diff_path)])\n",
    "    return np.array(triplets)"
   ]
  },
  {
   "cell_type": "code",
   "execution_count": 9,
   "id": "06232899",
   "metadata": {},
   "outputs": [],
   "source": [
    "no = 20\n",
    "X_train = create_triplets(train_list, train_bad_ids, int(no*0.67))\n",
    "X_test = create_triplets(test_list, test_bad_ids, int(no*0.33))"
   ]
  },
  {
   "cell_type": "code",
   "execution_count": 10,
   "id": "705a2831",
   "metadata": {},
   "outputs": [],
   "source": [
    "import os\n",
    "os.environ[\"TFHUB_CACHE_DIR\"] = \"C:/Users/Dominika/\"\n",
    "hub_extractor = \"https://tfhub.dev/google/bit/m-r50x1/1\"\n"
   ]
  },
  {
   "cell_type": "code",
   "execution_count": 11,
   "id": "12658afb",
   "metadata": {},
   "outputs": [
    {
     "name": "stdout",
     "output_type": "stream",
     "text": [
      "WARNING:tensorflow:Please fix your imports. Module tensorflow.python.training.tracking.data_structures has been moved to tensorflow.python.trackable.data_structures. The old module will be deleted in version 2.11.\n"
     ]
    }
   ],
   "source": [
    "feature_extractor_layer = hub.KerasLayer(\n",
    "    hub_extractor,\n",
    "    input_shape=(pic_size, pic_size, 3),\n",
    "    trainable=False)\n"
   ]
  },
  {
   "cell_type": "code",
   "execution_count": 12,
   "id": "8abd13a6",
   "metadata": {},
   "outputs": [],
   "source": [
    "def initialize_base_network():\n",
    "    input = Input(shape=(pic_size,pic_size,3,))\n",
    "    x = feature_extractor_layer(input)\n",
    "    x = Dense(128, activation='relu')(x)\n",
    "    x = Dense(128, activation='relu')(x)\n",
    "    return Model(inputs=input, outputs=x)"
   ]
  },
  {
   "cell_type": "code",
   "execution_count": 13,
   "id": "7755244b",
   "metadata": {},
   "outputs": [
    {
     "data": {
      "image/png": "[encoded data removed]",
      "text/plain": [
       "<IPython.core.display.Image object>"
      ]
     },
     "execution_count": 13,
     "metadata": {},
     "output_type": "execute_result"
    }
   ],
   "source": [
    "embedding = initialize_base_network()\n",
    "tf.keras.utils.plot_model(embedding, show_shapes=True)"
   ]
  },
  {
   "cell_type": "code",
   "execution_count": 14,
   "id": "76d760a2",
   "metadata": {},
   "outputs": [],
   "source": [
    "class SiameseNet(tf.keras.layers.Layer):\n",
    "    # set the backbone model in constructor\n",
    "    def __init__(self, model):\n",
    "        super().__init__()\n",
    "        self.model = model\n",
    "\n",
    "    def call(self, feat):\n",
    "        # get feature vectors from anchor\n",
    "        feats = self.model(feat[0])\n",
    "        # from positive image\n",
    "        pfeats = self.model(feat[1])\n",
    "        # and from negative image\n",
    "        nfeats = self.model(feat[2])\n",
    "        # concatenate vectors to a matrix\n",
    "        result = tf.stack([feats, pfeats, nfeats])\n",
    "        return result"
   ]
  },
  {
   "cell_type": "code",
   "execution_count": 15,
   "id": "17234a04",
   "metadata": {},
   "outputs": [],
   "source": [
    "class TripletLoss(tf.keras.layers.Layer):\n",
    "    # margin is settable hyperparameter in constructor\n",
    "    def __init__(self, margin):\n",
    "        self.margin = margin\n",
    "        super().__init__()\n",
    "        \n",
    "    # function calculating distance between features\n",
    "    def distance(self, x, y):\n",
    "        sum_square = tf.reduce_sum(tf.square(x - y), axis=1, keepdims=True)\n",
    "        return tf.sqrt(tf.maximum(sum_square, K.epsilon()))\n",
    "    \n",
    "\n",
    "    def call(self, features):\n",
    "        # get anchor-positive distance\n",
    "        pos = self.distance(features[0], features[1])\n",
    "        # anchor-negative distance\n",
    "        neg = self.distance(features[0], features[2])\n",
    "        # difference between anchor positive and anchor negative distances\n",
    "        loss = pos - neg\n",
    "        # get overall loss\n",
    "        return tf.maximum(loss + self.margin, 0.0)"
   ]
  },
  {
   "cell_type": "code",
   "execution_count": 16,
   "id": "0e80e2d3",
   "metadata": {},
   "outputs": [],
   "source": [
    "def identity_loss(y_true, y_pred):\n",
    "    return tf.reduce_mean(y_pred)"
   ]
  },
  {
   "cell_type": "code",
   "execution_count": 17,
   "id": "057a5ade",
   "metadata": {},
   "outputs": [
    {
     "data": {
      "image/png": "[encoded data removed]",
      "text/plain": [
       "<IPython.core.display.Image object>"
      ]
     },
     "execution_count": 17,
     "metadata": {},
     "output_type": "execute_result"
    }
   ],
   "source": [
    "# anchor branch\n",
    "image_input = Input(shape=(pic_size,pic_size,3), name='image_input')\n",
    "# positive image branch\n",
    "positive_input = Input(shape=(pic_size,pic_size,3), name='positive_input')\n",
    "# negative image branch\n",
    "negative_input = Input(shape=(pic_size,pic_size,3), name='negative_input')\n",
    "\n",
    "siamese = SiameseNet(embedding)([image_input, positive_input, negative_input])\n",
    "loss = TripletLoss(margin=1.0)(siamese)\n",
    "model = Model(inputs=[image_input, positive_input, negative_input], outputs=loss)\n",
    "model.compile(optimizer = tf.keras.optimizers.Adam(), loss = identity_loss)\n",
    "tf.keras.utils.plot_model(model, show_shapes=True)"
   ]
  },
  {
   "cell_type": "code",
   "execution_count": 18,
   "id": "462a09fd",
   "metadata": {},
   "outputs": [
    {
     "name": "stdout",
     "output_type": "stream",
     "text": [
      "Epoch 1/20\n",
      "2/2 [==============================] - 32s 7s/step - loss: 0.4039 - val_loss: 0.0000e+00\n",
      "Epoch 2/20\n",
      "2/2 [==============================] - 7s 4s/step - loss: 0.0000e+00 - val_loss: 0.0000e+00\n",
      "Epoch 3/20\n",
      "2/2 [==============================] - 6s 4s/step - loss: 0.0000e+00 - val_loss: 0.0000e+00\n",
      "Epoch 4/20\n",
      "2/2 [==============================] - 6s 4s/step - loss: 0.0000e+00 - val_loss: 0.0000e+00\n",
      "Epoch 5/20\n",
      "2/2 [==============================] - 6s 4s/step - loss: 0.0000e+00 - val_loss: 0.0000e+00\n",
      "Epoch 6/20\n",
      "2/2 [==============================] - 6s 4s/step - loss: 0.0000e+00 - val_loss: 0.0000e+00\n",
      "Epoch 7/20\n",
      "2/2 [==============================] - 6s 4s/step - loss: 0.0000e+00 - val_loss: 0.0000e+00\n",
      "Epoch 8/20\n",
      "2/2 [==============================] - 7s 4s/step - loss: 0.0000e+00 - val_loss: 0.0000e+00\n",
      "Epoch 9/20\n",
      "2/2 [==============================] - 6s 4s/step - loss: 0.0000e+00 - val_loss: 0.0000e+00\n",
      "Epoch 10/20\n",
      "2/2 [==============================] - 6s 4s/step - loss: 0.0000e+00 - val_loss: 0.0000e+00\n",
      "Epoch 11/20\n",
      "2/2 [==============================] - 6s 4s/step - loss: 0.0000e+00 - val_loss: 0.0000e+00\n",
      "Epoch 12/20\n",
      "2/2 [==============================] - 7s 4s/step - loss: 0.0000e+00 - val_loss: 0.0000e+00\n",
      "Epoch 13/20\n",
      "2/2 [==============================] - 6s 4s/step - loss: 0.0000e+00 - val_loss: 0.0000e+00\n",
      "Epoch 14/20\n",
      "2/2 [==============================] - 6s 4s/step - loss: 0.0000e+00 - val_loss: 0.0000e+00\n",
      "Epoch 15/20\n",
      "2/2 [==============================] - 7s 4s/step - loss: 0.0000e+00 - val_loss: 0.0000e+00\n",
      "Epoch 16/20\n",
      "2/2 [==============================] - 6s 4s/step - loss: 0.0000e+00 - val_loss: 0.0000e+00\n",
      "Epoch 17/20\n",
      "2/2 [==============================] - 6s 4s/step - loss: 0.0000e+00 - val_loss: 0.0000e+00\n",
      "Epoch 18/20\n",
      "2/2 [==============================] - 6s 4s/step - loss: 0.0000e+00 - val_loss: 0.0000e+00\n",
      "Epoch 19/20\n",
      "2/2 [==============================] - 6s 4s/step - loss: 0.0000e+00 - val_loss: 0.0000e+00\n",
      "Epoch 20/20\n",
      "2/2 [==============================] - 6s 4s/step - loss: 0.0000e+00 - val_loss: 0.0000e+00\n"
     ]
    }
   ],
   "source": [
    "# we don't need labels, everything is handled inside triplet loss layer, so we just set labels to 1, they will not be used anyway\n",
    "callback = tf.keras.callbacks.EarlyStopping(monitor='val_loss', patience=3, restore_best_weights = True)\n",
    "history = model.fit([X_train[:,0], X_train[:,1], X_train[:,2]], np.ones(X_train.shape[0]), batch_size=8, verbose=1, validation_data=([X_test[:,0], X_test[:,1], X_test[:,2]], np.ones(X_test.shape[0])), epochs=20)"
   ]
  },
  {
   "cell_type": "code",
   "execution_count": 19,
   "id": "02fd863b",
   "metadata": {},
   "outputs": [],
   "source": [
    "def plot_metrics(metric_name, title, ylim=5):\n",
    "    plt.title(title)\n",
    "    plt.ylim(0,ylim)\n",
    "    plt.plot(history.history[metric_name],color='blue',label=metric_name)\n",
    "    plt.plot(history.history['val_' + metric_name],color='green',label='val_' + metric_name)\n",
    "    plt.grid()"
   ]
  },
  {
   "cell_type": "code",
   "execution_count": 20,
   "id": "438b18bd",
   "metadata": {},
   "outputs": [
    {
     "data": {
      "image/png": "[encoded data removed]",
      "text/plain": [
       "<Figure size 640x480 with 1 Axes>"
      ]
     },
     "metadata": {},
     "output_type": "display_data"
    }
   ],
   "source": [
    "plot_metrics(metric_name='loss', title=\"Loss\")"
   ]
  },
  {
   "cell_type": "code",
   "execution_count": 21,
   "id": "bc4be6c1",
   "metadata": {},
   "outputs": [],
   "source": [
    "def create_pairs(data):\n",
    "    pairs_data = []\n",
    "    pairs_labels = []\n",
    "    # go per each of cloth class\n",
    "    for key in data:\n",
    "        key_lenght = len(data[key])\n",
    "        keys_list = list(data.keys())\n",
    "        for i in range(key_lenght -1):\n",
    "            # get the positive pair - n and n+1 item from current label\n",
    "            idx1, idx2 = data[key][i], data[key][i + 1]\n",
    "            # save to list and set label to 1\n",
    "            pairs_data.append([get_image_array(idx1), get_image_array(idx2)])\n",
    "            pairs_labels.append(1.0)\n",
    "            keys_list.remove(key)\n",
    "            # add increment to class index and apply modulo by class count to get random negative class label index\n",
    "            negative_label_index = random.choice(keys_list)\n",
    "            # take random item from other label items to create a negative pair\n",
    "            negative_sample = random.choice(data[negative_label_index])\n",
    "            # save negative pair and set label to 0\n",
    "            pairs_data.append([get_image_array(idx1), get_image_array(negative_sample)])\n",
    "            pairs_labels.append(0.0)\n",
    "    # numpy arrays are easier to work with, so type list into it\n",
    "    return np.array(pairs_data), np.array(pairs_labels)\n",
    "        \n"
   ]
  },
  {
   "cell_type": "code",
   "execution_count": 22,
   "id": "f4edd8ce",
   "metadata": {},
   "outputs": [],
   "source": [
    "X_test, Y_test = create_pairs(test_list)\n"
   ]
  },
  {
   "cell_type": "code",
   "execution_count": 23,
   "id": "d3f14a78",
   "metadata": {},
   "outputs": [
    {
     "name": "stdout",
     "output_type": "stream",
     "text": [
      "1/1 [==============================] - 2s 2s/step\n"
     ]
    }
   ],
   "source": [
    "left_pair = X_test[:,0]\n",
    "left_pair_pred = embedding.predict(left_pair)"
   ]
  },
  {
   "cell_type": "code",
   "execution_count": 24,
   "id": "5e8345da",
   "metadata": {},
   "outputs": [
    {
     "name": "stdout",
     "output_type": "stream",
     "text": [
      "1/1 [==============================] - 0s 353ms/step\n"
     ]
    }
   ],
   "source": [
    "right_pair = X_test[:,1]\n",
    "right_pair_pred = embedding.predict(right_pair)"
   ]
  },
  {
   "cell_type": "code",
   "execution_count": 25,
   "id": "7f733414",
   "metadata": {},
   "outputs": [],
   "source": [
    "positive_left_pred = left_pair_pred[0::2]\n",
    "positive_right_pred = right_pair_pred[0::2]\n",
    "positive_distances = np.linalg.norm(positive_left_pred - positive_right_pred, axis=1)"
   ]
  },
  {
   "cell_type": "code",
   "execution_count": 26,
   "id": "08957f4d",
   "metadata": {},
   "outputs": [
    {
     "data": {
      "text/plain": [
       "count     1.00000\n",
       "mean     10.14923\n",
       "std           NaN\n",
       "min      10.14923\n",
       "25%      10.14923\n",
       "50%      10.14923\n",
       "75%      10.14923\n",
       "max      10.14923\n",
       "dtype: float64"
      ]
     },
     "execution_count": 26,
     "metadata": {},
     "output_type": "execute_result"
    }
   ],
   "source": [
    "pd.Series(positive_distances).describe()"
   ]
  },
  {
   "cell_type": "code",
   "execution_count": 27,
   "id": "25fcd979",
   "metadata": {},
   "outputs": [],
   "source": [
    "negative_left_pred = left_pair_pred[1::2]\n",
    "negative_right_pred = right_pair_pred[1::2]\n",
    "negative_distances = np.linalg.norm(negative_left_pred - negative_right_pred, axis=1)"
   ]
  },
  {
   "cell_type": "code",
   "execution_count": 28,
   "id": "67f7cfd7",
   "metadata": {},
   "outputs": [
    {
     "data": {
      "text/plain": [
       "count     1.000000\n",
       "mean     12.184362\n",
       "std            NaN\n",
       "min      12.184362\n",
       "25%      12.184362\n",
       "50%      12.184362\n",
       "75%      12.184362\n",
       "max      12.184362\n",
       "dtype: float64"
      ]
     },
     "execution_count": 28,
     "metadata": {},
     "output_type": "execute_result"
    }
   ],
   "source": [
    "pd.Series(negative_distances).describe()"
   ]
  },
  {
   "cell_type": "code",
   "execution_count": 29,
   "id": "56147f6f",
   "metadata": {},
   "outputs": [
    {
     "name": "stdout",
     "output_type": "stream",
     "text": [
      "11.166796207427979\n"
     ]
    }
   ],
   "source": [
    "border = abs(np.mean(pd.Series(positive_distances)) + np.mean(pd.Series(negative_distances)))/2\n",
    "print(border)"
   ]
  },
  {
   "cell_type": "code",
   "execution_count": 30,
   "id": "4e4772c1",
   "metadata": {},
   "outputs": [
    {
     "data": {
      "image/png": "[encoded data removed]",
      "text/plain": [
       "<Figure size 640x480 with 1 Axes>"
      ]
     },
     "metadata": {},
     "output_type": "display_data"
    }
   ],
   "source": [
    "fig = plt.figure()\n",
    "ax = fig.add_axes([0,0,1, 1])\n",
    "ax.boxplot([positive_distances, negative_distances])\n",
    "plt.xticks([1, 2], ['Positive', 'Negative'])\n",
    "ax.grid()\n",
    "plt.show()"
   ]
  },
  {
   "cell_type": "code",
   "execution_count": 31,
   "id": "55acbc9c",
   "metadata": {},
   "outputs": [],
   "source": [
    "def compute_accuracy(left_pred, right_pred, y_true):\n",
    "    y_pred = np.linalg.norm(left_pair_pred - right_pair_pred, axis=1)\n",
    "#     # 1 for the same - distance is smaller than 3.0, 0 for the different\n",
    "    pred = y_pred < border\n",
    "    return np.mean(pred == y_true)"
   ]
  },
  {
   "cell_type": "code",
   "execution_count": 32,
   "id": "1e8a56ae",
   "metadata": {},
   "outputs": [
    {
     "name": "stdout",
     "output_type": "stream",
     "text": [
      "1/1 [==============================] - 0s 350ms/step\n",
      "1/1 [==============================] - 0s 336ms/step\n",
      "Test accuracy: 100.00%\n"
     ]
    }
   ],
   "source": [
    "test_accuracy = compute_accuracy(embedding.predict(X_test[:,0]), embedding.predict(X_test[:,1]), Y_test)\n",
    "print(f'Test accuracy: {test_accuracy*100:.2f}%')"
   ]
  },
  {
   "cell_type": "code",
   "execution_count": null,
   "id": "88948631",
   "metadata": {},
   "outputs": [],
   "source": []
  }
 ],
 "metadata": {
  "colab": {
   "provenance": []
  },
  "kernelspec": {
   "display_name": "Python 3 (ipykernel)",
   "language": "python",
   "name": "python3"
  },
  "language_info": {
   "codemirror_mode": {
    "name": "ipython",
    "version": 3
   },
   "file_extension": ".py",
   "mimetype": "text/x-python",
   "name": "python",
   "nbconvert_exporter": "python",
   "pygments_lexer": "ipython3",
   "version": "3.9.13"
  }
 },
 "nbformat": 4,
 "nbformat_minor": 5
}
