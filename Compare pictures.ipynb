{
 "cells": [
  {
   "cell_type": "code",
   "execution_count": 44,
   "id": "cc3b293a",
   "metadata": {},
   "outputs": [],
   "source": [
    "from tensorflow import keras\n",
    "from tensorflow.keras.layers import Dense, Input, Flatten, concatenate, Lambda, BatchNormalization, Dropout\n",
    "from tensorflow.keras.models import Model\n",
    "import pandas as pd\n",
    "import tensorflow.keras.backend as K\n",
    "from tensorflow.keras import regularizers\n",
    "import numpy as np\n",
    "import tensorflow_hub as hub\n",
    "import cv2\n",
    "import csv\n",
    "from tensorflow.keras.datasets import fashion_mnist\n",
    "import numpy as np\n",
    "import random\n",
    "import matplotlib.pyplot as plt\n",
    "import tensorflow as tf\n",
    "from tensorflow.keras.models import Model\n",
    "from tensorflow.keras.optimizers import Adam\n",
    "from tensorflow.python.keras.utils.vis_utils import plot_model\n",
    "import tensorflow.keras.backend as K\n",
    "from tensorflow.keras.applications.resnet50 import ResNet50\n",
    "import cvlib as cv\n",
    "import os"
   ]
  },
  {
   "cell_type": "code",
   "execution_count": 45,
   "id": "806fc9fc",
   "metadata": {},
   "outputs": [],
   "source": [
    "feature_vectors = pd.read_csv('team_vectors.csv')"
   ]
  },
  {
   "cell_type": "code",
   "execution_count": 46,
   "id": "65356e4d",
   "metadata": {},
   "outputs": [],
   "source": [
    "feature_vector_dict = {}"
   ]
  },
  {
   "cell_type": "code",
   "execution_count": 47,
   "id": "f6c0bd82",
   "metadata": {},
   "outputs": [],
   "source": [
    "for _, row in feature_vectors.iterrows():\n",
    "    feature_vector_dict[row[1]] = np.fromstring(row[2][1:-1], sep=', ', dtype=float)"
   ]
  },
  {
   "cell_type": "code",
   "execution_count": 48,
   "id": "abd2171c",
   "metadata": {},
   "outputs": [
    {
     "data": {
      "text/plain": [
       "{'DL': array([0.        , 0.        , 0.36152259, ..., 5.28034449, 1.31312311,\n",
       "        5.60397768]),\n",
       " 'JP': array([0.12309892, 0.        , 0.39085525, ..., 4.14608288, 0.19131023,\n",
       "        1.39371192]),\n",
       " 'KD': array([0.05809994, 0.        , 0.3929548 , ..., 7.58420753, 1.50368154,\n",
       "        3.66423512]),\n",
       " 'MV': array([0.        , 0.        , 0.53525496, ..., 2.36527395, 0.1929242 ,\n",
       "        1.34479153]),\n",
       " 'PZ': array([0.        , 0.        , 0.06230139, ..., 9.0072546 , 3.28696251,\n",
       "        2.41526008])}"
      ]
     },
     "execution_count": 48,
     "metadata": {},
     "output_type": "execute_result"
    }
   ],
   "source": [
    "feature_vector_dict"
   ]
  },
  {
   "cell_type": "code",
   "execution_count": 49,
   "id": "c3c295db",
   "metadata": {},
   "outputs": [
    {
     "name": "stdout",
     "output_type": "stream",
     "text": [
      "WARNING:tensorflow:No training configuration found in save file, so the model was *not* compiled. Compile it manually.\n"
     ]
    },
    {
     "name": "stderr",
     "output_type": "stream",
     "text": [
      "WARNING:tensorflow:No training configuration found in save file, so the model was *not* compiled. Compile it manually.\n"
     ]
    }
   ],
   "source": [
    "model = keras.models.load_model('models/v3_80pct_compare/')"
   ]
  },
  {
   "cell_type": "code",
   "execution_count": 50,
   "id": "0a6e91c5",
   "metadata": {},
   "outputs": [],
   "source": [
    "import os\n",
    "os.environ[\"TFHUB_CACHE_DIR\"] = \"C:/Users/karel\"\n",
    "hub_extractor = \"https://tfhub.dev/google/bit/m-r50x1/1\""
   ]
  },
  {
   "cell_type": "code",
   "execution_count": 51,
   "id": "1858c511",
   "metadata": {},
   "outputs": [],
   "source": [
    "feature_extractor_layer = hub.KerasLayer(\n",
    "    hub_extractor,\n",
    "    input_shape=(224, 224, 3),\n",
    "    trainable=False\n",
    ")"
   ]
  },
  {
   "cell_type": "code",
   "execution_count": 52,
   "id": "cdd300b9",
   "metadata": {},
   "outputs": [],
   "source": [
    "input_layer_1 = Input(shape=(224,224,3), name=\"left_input\")\n",
    "input_layer_2 = Input(shape=(2048), name=\"right_input\")\n",
    "\n",
    "left = input_layer_1\n",
    "right = input_layer_2\n",
    "\n",
    "left = feature_extractor_layer(left)\n",
    "\n",
    "out = model([left, right])"
   ]
  },
  {
   "cell_type": "code",
   "execution_count": 53,
   "id": "0ce7890e",
   "metadata": {},
   "outputs": [],
   "source": [
    "model = tf.keras.Model(inputs=[input_layer_1, input_layer_2], outputs = out)"
   ]
  },
  {
   "cell_type": "code",
   "execution_count": 54,
   "id": "e32b4d87",
   "metadata": {},
   "outputs": [
    {
     "name": "stdout",
     "output_type": "stream",
     "text": [
      "Model: \"model\"\n",
      "__________________________________________________________________________________________________\n",
      " Layer (type)                   Output Shape         Param #     Connected to                     \n",
      "==================================================================================================\n",
      " left_input (InputLayer)        [(None, 224, 224, 3  0           []                               \n",
      "                                )]                                                                \n",
      "                                                                                                  \n",
      " keras_layer_1 (KerasLayer)     (None, 2048)         23500352    ['left_input[0][0]']             \n",
      "                                                                                                  \n",
      " right_input (InputLayer)       [(None, 2048)]       0           []                               \n",
      "                                                                                                  \n",
      " model_2 (Functional)           (None, 1)            533825      ['keras_layer_1[0][0]',          \n",
      "                                                                  'right_input[0][0]']            \n",
      "                                                                                                  \n",
      "==================================================================================================\n",
      "Total params: 24,034,177\n",
      "Trainable params: 533,313\n",
      "Non-trainable params: 23,500,864\n",
      "__________________________________________________________________________________________________\n"
     ]
    }
   ],
   "source": [
    "model.summary()"
   ]
  },
  {
   "cell_type": "code",
   "execution_count": 55,
   "id": "dd1223a6",
   "metadata": {},
   "outputs": [
    {
     "data": {
      "image/png": "[encoded data removed]",
      "text/plain": [
       "<IPython.core.display.Image object>"
      ]
     },
     "execution_count": 55,
     "metadata": {},
     "output_type": "execute_result"
    }
   ],
   "source": [
    "tf.keras.utils.plot_model(model, show_shapes=True)"
   ]
  },
  {
   "cell_type": "code",
   "execution_count": 56,
   "id": "34ce935d",
   "metadata": {},
   "outputs": [],
   "source": [
    "def get_face(image):\n",
    "  img = cv2.imread(image)\n",
    "  faces, confidences = cv.detect_face(img)\n",
    "  path = image.replace('.jpg', '_cropped.jpg').replace('.jpeg', '_cropped.jpg')\n",
    "\n",
    "  if os.path.exists(path):\n",
    "    return path\n",
    "\n",
    "  for face in faces:\n",
    "        (startX,startY) = face[0],face[1]\n",
    "        (endX,endY) = face[2],face[3]\n",
    "        cropped_image = img[startY:endY, startX:endX]\n",
    "        cv2.imwrite(path, cropped_image)\n",
    "        return path"
   ]
  },
  {
   "cell_type": "code",
   "execution_count": 57,
   "id": "ae586443",
   "metadata": {},
   "outputs": [],
   "source": [
    "def preprocess_image(image):\n",
    "    image_string = tf.io.read_file(image)\n",
    "    image = tf.image.decode_jpeg(image_string)\n",
    "\n",
    "    resize = tf.keras.layers.Resizing (224, 224, interpolation='bilinear', crop_to_aspect_ratio=False)\n",
    "    resized_image = resize(image)\n",
    "    \n",
    "    resized_image = tf.keras.applications.resnet50.preprocess_input(resized_image)\n",
    "    resized_image = tf.image.convert_image_dtype(resized_image, tf.float32)\n",
    "\n",
    "    return resized_image"
   ]
  },
  {
   "cell_type": "code",
   "execution_count": 58,
   "id": "eeb43e05",
   "metadata": {},
   "outputs": [],
   "source": [
    "import glob"
   ]
  },
  {
   "cell_type": "code",
   "execution_count": 72,
   "id": "3917f889",
   "metadata": {},
   "outputs": [
    {
     "name": "stdout",
     "output_type": "stream",
     "text": [
      "---\n",
      ".\\compare\\1648024256025.jpg\n",
      "{'DL': 0.0024633808, 'JP': 0.89225256, 'KD': 0.6001972, 'MV': 0.99181, 'PZ': 0.53379554}\n",
      "---\n",
      "---\n",
      ".\\compare\\image0(3).jpeg\n",
      "{'DL': 0.5652646, 'JP': 0.026446953, 'KD': 0.14837758, 'MV': 0.043505605, 'PZ': 0.4807547}\n",
      "---\n",
      "---\n",
      ".\\compare\\IMG_20221124_181854.jpg\n",
      "{'DL': 0.0027557479, 'JP': 0.85438246, 'KD': 0.63553756, 'MV': 0.78076947, 'PZ': 0.5448405}\n",
      "---\n",
      "---\n",
      ".\\compare\\IMG_5294.JPG\n",
      "{'DL': 0.8740119, 'JP': 0.0024315026, 'KD': 0.06376351, 'MV': 0.01646562, 'PZ': 0.036573093}\n",
      "---\n",
      "---\n",
      ".\\compare\\IMG_Douda_1.jpg\n",
      "{'DL': 0.041504893, 'JP': 0.8761351, 'KD': 0.99181104, 'MV': 0.6508584, 'PZ': 0.6517751}\n",
      "---\n",
      "---\n",
      ".\\compare\\IMG_Douda_2.jpeg\n",
      "{'DL': 0.081066005, 'JP': 0.1360572, 'KD': 0.60562444, 'MV': 0.116041414, 'PZ': 0.32391867}\n",
      "---\n",
      "---\n",
      ".\\compare\\IMG_Prokop.jpg\n",
      "{'DL': 0.00094830093, 'JP': 0.9918114, 'KD': 0.6887433, 'MV': 0.7376794, 'PZ': 0.3067885}\n",
      "---\n",
      "---\n",
      ".\\compare\\IMG_Zeman.jpg\n",
      "{'DL': 0.048461534, 'JP': 0.5881602, 'KD': 0.6636165, 'MV': 0.70472074, 'PZ': 0.99181527}\n",
      "---\n",
      "---\n",
      ".\\compare\\Zeman3.jpg\n",
      "{'DL': 0.028247636, 'JP': 0.6440032, 'KD': 0.7872281, 'MV': 0.71162385, 'PZ': 0.9753979}\n",
      "---\n"
     ]
    }
   ],
   "source": [
    "for image_path in glob.glob(\".\\compare\\*\"):\n",
    "    if 'cropped' in image_path:\n",
    "        continue\n",
    "        \n",
    "    image = preprocess_image(get_face(image_path))\n",
    "    \n",
    "    image_row = {}\n",
    "    \n",
    "    for item in feature_vector_dict.items():\n",
    "        res = model.predict(\n",
    "            [\n",
    "                np.expand_dims(image, axis=0),\n",
    "                np.expand_dims(item[1], axis=0)\n",
    "            ],\n",
    "            verbose=False\n",
    "        )\n",
    "        \n",
    "        image_row[item[0]] = res[0][0]\n",
    "        \n",
    "    print(\"---\")\n",
    "    \n",
    "    print(image_path)\n",
    "    print(image_row)\n",
    "    \n",
    "    print(\"---\")"
   ]
  },
  {
   "cell_type": "code",
   "execution_count": null,
   "id": "7a3f8dab",
   "metadata": {},
   "outputs": [],
   "source": []
  }
 ],
 "metadata": {
  "kernelspec": {
   "display_name": "GPUEnv",
   "language": "python",
   "name": "gpuenv"
  },
  "language_info": {
   "codemirror_mode": {
    "name": "ipython",
    "version": 3
   },
   "file_extension": ".py",
   "mimetype": "text/x-python",
   "name": "python",
   "nbconvert_exporter": "python",
   "pygments_lexer": "ipython3",
   "version": "3.10.8"
  }
 },
 "nbformat": 4,
 "nbformat_minor": 5
}
